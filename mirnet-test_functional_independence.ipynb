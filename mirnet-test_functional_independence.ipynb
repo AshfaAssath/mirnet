{
  "cells": [
    {
      "cell_type": "markdown",
      "source": [
        "Dataset\n",
        "\n",
        "Training \n",
        "  Positive : 26974, \n",
        "  Negative : 27470\n",
        "\n",
        "Validation \n",
        "  Positive : 2150, \n",
        "  Negative : 2136"
      ],
      "metadata": {
        "id": "0lLsS2s2MR-Q"
      }
    },
    {
      "cell_type": "code",
      "source": [
        "from google.colab import drive\n",
        "drive.mount('/content/drive', force_remount=True)"
      ],
      "metadata": {
        "id": "U8SYYiTHzG3V",
        "colab": {
          "base_uri": "https://localhost:8080/"
        },
        "outputId": "80a32a4f-a540-4160-c2d9-f0d757eac15b"
      },
      "execution_count": 10,
      "outputs": [
        {
          "output_type": "stream",
          "name": "stdout",
          "text": [
            "Mounted at /content/drive\n"
          ]
        }
      ]
    },
    {
      "cell_type": "code",
      "execution_count": 11,
      "metadata": {
        "id": "BhXlyV5WGag2",
        "colab": {
          "base_uri": "https://localhost:8080/"
        },
        "outputId": "85f46e74-cf91-437e-fd01-1e259d9d6ee9"
      },
      "outputs": [
        {
          "output_type": "stream",
          "name": "stdout",
          "text": [
            "Colab only includes TensorFlow 2.x; %tensorflow_version has no effect.\n",
            "Found GPU at: /device:GPU:0\n"
          ]
        }
      ],
      "source": [
        "import json\n",
        "\n",
        "import numpy as np\n",
        "import pandas as pd\n",
        "\n",
        "try:\n",
        "  # %tensorflow_version only exists in Colab.\n",
        "  %tensorflow_version 2.x\n",
        "except Exception:\n",
        "  pass\n",
        "import tensorflow as tf\n",
        "device_name = tf.test.gpu_device_name()\n",
        "if device_name != '/device:GPU:0':\n",
        "  raise SystemError('GPU device not found')\n",
        "print('Found GPU at: {}'.format(device_name))\n",
        "\n",
        "from tensorflow.keras import layers"
      ]
    },
    {
      "cell_type": "code",
      "execution_count": 12,
      "metadata": {
        "id": "2Kyc3PgjHbzP"
      },
      "outputs": [],
      "source": [
        "#utitliy functions \n",
        "\n",
        "import os\n",
        "import sys\n",
        "\n",
        "import datetime\n",
        "\n",
        "output_path=\"/content/drive/MyDrive/Colab Notebooks/2/results/TargetNet_training/\"\n",
        "\n",
        "def set_output(string):\n",
        "    \"\"\" set output configurations \"\"\"\n",
        "    output, save_prefix = sys.stdout, None\n",
        "    if output_path is not None:\n",
        "        save_prefix = output_path\n",
        "        if not os.path.exists(save_prefix):\n",
        "            os.makedirs(save_prefix, exist_ok=True)\n",
        "        output = open( output_path + string + \".txt\", \"a\")\n",
        "\n",
        "    return output, save_prefix\n",
        "\n",
        "def Print(string, output, newline=False, timestamp=True):\n",
        "    \"\"\" print to stdout and a file (if given) \"\"\"\n",
        "    if timestamp:\n",
        "        time = datetime.datetime.now()\n",
        "        line = '\\t'.join([str(time.strftime('%m-%d %H:%M:%S')), string])\n",
        "    else:\n",
        "        time = None\n",
        "        line = string\n",
        "\n",
        "    print(line, file=sys.stderr)\n",
        "    if newline: print(\"\", file=sys.stderr)\n",
        "\n",
        "    if not output == sys.stdout:\n",
        "        print(line, file=output)\n",
        "        if newline: print(\"\", file=output)\n",
        "\n",
        "    output.flush()\n",
        "    return time"
      ]
    },
    {
      "cell_type": "code",
      "source": [
        "from tensorflow.keras import models \n",
        "\n",
        "modelDir = '/content/drive/MyDrive/Colab Notebooks/Research/Colab Notebooks/finals/results/the_model9.h5'\n",
        "   \n",
        "#Getting the model\n",
        "model = models.load_model('/content/drive/MyDrive/Colab Notebooks/Research/Colab Notebooks/finals/results/the_model9.h5')"
      ],
      "metadata": {
        "id": "Ub35xOhtW8wi",
        "colab": {
          "base_uri": "https://localhost:8080/"
        },
        "outputId": "f5cd7eb5-366e-4874-c93f-2331c679307b"
      },
      "execution_count": 13,
      "outputs": [
        {
          "output_type": "stream",
          "name": "stderr",
          "text": [
            "WARNING:tensorflow:Layer lstm_8 will not use cuDNN kernels since it doesn't meet the criteria. It will use a generic GPU kernel as fallback when running on GPU.\n",
            "WARNING:tensorflow:Layer lstm_8 will not use cuDNN kernels since it doesn't meet the criteria. It will use a generic GPU kernel as fallback when running on GPU.\n",
            "WARNING:tensorflow:Layer lstm_8 will not use cuDNN kernels since it doesn't meet the criteria. It will use a generic GPU kernel as fallback when running on GPU.\n"
          ]
        }
      ]
    },
    {
      "cell_type": "code",
      "execution_count": 14,
      "metadata": {
        "id": "rPeuFd_sbDed",
        "colab": {
          "base_uri": "https://localhost:8080/"
        },
        "outputId": "3037242b-e4b7-42c6-cfc1-f042badcd3d8"
      },
      "outputs": [
        {
          "output_type": "stream",
          "name": "stdout",
          "text": [
            "Looking in indexes: https://pypi.org/simple, https://us-python.pkg.dev/colab-wheels/public/simple/\n",
            "Requirement already satisfied: bio in /usr/local/lib/python3.7/dist-packages (1.4.0)\n",
            "Requirement already satisfied: biopython>=1.79 in /usr/local/lib/python3.7/dist-packages (from bio) (1.79)\n",
            "Requirement already satisfied: tqdm in /usr/local/lib/python3.7/dist-packages (from bio) (4.64.1)\n",
            "Requirement already satisfied: mygene in /usr/local/lib/python3.7/dist-packages (from bio) (3.2.2)\n",
            "Requirement already satisfied: requests in /usr/local/lib/python3.7/dist-packages (from bio) (2.23.0)\n",
            "Requirement already satisfied: numpy in /usr/local/lib/python3.7/dist-packages (from biopython>=1.79->bio) (1.21.6)\n",
            "Requirement already satisfied: biothings-client>=0.2.6 in /usr/local/lib/python3.7/dist-packages (from mygene->bio) (0.2.6)\n",
            "Requirement already satisfied: urllib3!=1.25.0,!=1.25.1,<1.26,>=1.21.1 in /usr/local/lib/python3.7/dist-packages (from requests->bio) (1.24.3)\n",
            "Requirement already satisfied: chardet<4,>=3.0.2 in /usr/local/lib/python3.7/dist-packages (from requests->bio) (3.0.4)\n",
            "Requirement already satisfied: certifi>=2017.4.17 in /usr/local/lib/python3.7/dist-packages (from requests->bio) (2022.9.24)\n",
            "Requirement already satisfied: idna<3,>=2.5 in /usr/local/lib/python3.7/dist-packages (from requests->bio) (2.10)\n"
          ]
        }
      ],
      "source": [
        "!pip install bio\n",
        "import sys\n",
        "import numpy as np\n",
        "from Bio import pairwise2\n",
        "\n",
        "class miRNA_CTS_dataset():\n",
        "    \"\"\" Pytorch dataloader for miRNA-CTS pair data \"\"\"\n",
        "    def __init__(self, X, labels, set_idxs, set_labels):\n",
        "        self.X = X\n",
        "        self.labels = labels\n",
        "        self.set_idxs = set_idxs\n",
        "        self.set_labels = set_labels\n",
        "\n",
        "    def __len__(self):\n",
        "        return len(self.labels)\n",
        "\n",
        "    def __getitem__(self, i):\n",
        "        return self.X[i], self.labels[i], self.set_idxs[i]\n",
        "\n",
        "def encode_RNA(mirna_seq, mirna_esa, cts_rev_seq, cts_rev_esa):\n",
        "    \"\"\" one-hot encoder for RNA sequences with/without extended seed alignments \"\"\"\n",
        "    chars = {\"A\":0, \"C\":1, \"G\":2, \"U\":3, \"-\":4}\n",
        "\n",
        "    x = np.zeros((10, 50), dtype=np.float32)\n",
        "    for i in range(len(mirna_esa)):\n",
        "        x[chars[mirna_esa[i]], 5 + i] = 1\n",
        "    for i in range(10, len(mirna_seq)):\n",
        "        x[chars[mirna_seq[i]], 5 + i - 10 + len(mirna_esa)] = 1\n",
        "    for i in range(5):\n",
        "        x[chars[cts_rev_seq[i]] + len(chars), i] = 1\n",
        "    for i in range(len(cts_rev_esa)):\n",
        "        x[chars[cts_rev_esa[i]] + len(chars), i + 5] = 1\n",
        "    for i in range(15, len(cts_rev_seq)):\n",
        "        x[chars[cts_rev_seq[i]]  + len(chars), i + 5 - 15 + len(cts_rev_esa)] = 1\n",
        "\n",
        "    return x\n",
        "        \n",
        "\n",
        "\n",
        "def reverse(seq):\n",
        "    \"\"\" reverse the given sequence \"\"\"\n",
        "    seq_r = \"\"\n",
        "    for i in range(len(seq)):\n",
        "        seq_r += seq[len(seq) - 1 - i]\n",
        "    return seq_r\n",
        "\n",
        "\n",
        "score_matrix = {}  # Allow watson-crick & wobble\n",
        "for c1 in 'ACGU':\n",
        "    for c2 in 'ACGU':\n",
        "        if (c1, c2) in [('A', 'U'), ('U', 'A'), ('G', 'C'), ('C', 'G')]:\n",
        "            score_matrix[(c1, c2)] = 1\n",
        "        elif (c1, c2) in [('U', 'G'), ('G', 'U')]:\n",
        "            score_matrix[(c1, c2)] = 1\n",
        "        else:\n",
        "            score_matrix[(c1, c2)] = 0\n",
        "\n",
        "\n",
        "def extended_seed_alignment(mi_seq, cts_r_seq):\n",
        "    \"\"\" extended seed alignment \"\"\"\n",
        "    alignment = pairwise2.align.globaldx(mi_seq[:10], cts_r_seq[5:15], score_matrix, one_alignment_only=True)[0]\n",
        "    mi_esa = alignment[0]\n",
        "    cts_r_esa = alignment[1]\n",
        "    esa_score = alignment[2]\n",
        "    return mi_esa, cts_r_esa, esa_score\n",
        "\n",
        "\n",
        "def get_dataset_from_configs(data_cfg,split_idx=None):\n",
        "  \n",
        "    FILE = open(data_cfg, \"r\")\n",
        "    lines = FILE.readlines()\n",
        "    FILE.close()\n",
        "\n",
        "    X, labels, set_idxs, set_labels = [], [], [], []\n",
        "    set_idx = 0\n",
        "    for l, line in enumerate(lines[1:]):\n",
        "      tokens = line.strip().split(\",\")\n",
        "      # print(tokens)\n",
        "      mirna_id, mirna_seq, mrna_id, mrna_seq = tokens[:4]\n",
        "      label = float(tokens[4]) if len(tokens) > 4 else 0\n",
        "      \n",
        "      mirna_seq = mirna_seq.upper().replace(\"T\", \"U\")\n",
        "      mrna_seq = mrna_seq.upper().replace(\"T\", \"U\")\n",
        "      mrna_rev_seq = reverse(mrna_seq)\n",
        "\n",
        "      \n",
        "      for pos in range(len(mrna_rev_seq) - 40 + 1):\n",
        "          tempX=[]\n",
        "          mirna_esa, cts_rev_esa, esa_score = extended_seed_alignment(mirna_seq, mrna_rev_seq[pos:pos+40])\n",
        "          if split_idx not in [\"train\", \"val\"] and esa_score < 6: continue\n",
        "          x = encode_RNA(mirna_seq, mirna_esa,mrna_rev_seq[pos:pos+40], cts_rev_esa).transpose()\n",
        "          X.append(np.array(x))\n",
        "          labels.append(tf.expand_dims(np.array(label), 0))\n",
        "          set_idxs.append(np.array(set_idx))\n",
        "\n",
        "      set_labels.append(label)\n",
        "      set_idx += 1\n",
        "\n",
        "      if set_idx % 5 == 0:\n",
        "          print('# {} {:.1%}'.format(split_idx, l / len(lines[1:])), end='\\r', file=sys.stderr)\n",
        "    print(' ' * 150, end='\\r', file=sys.stderr)\n",
        "\n",
        "    X = np.array(X)\n",
        "    labels = np.array(labels)\n",
        "    dataset = miRNA_CTS_dataset(X, labels, set_idxs, np.array(set_labels))\n",
        "\n",
        "    return X, labels, set_idxs, set_labels\n",
        "\n",
        "output, save_prefix = set_output(\"test_model_log\")\n",
        "device = device_name"
      ]
    },
    {
      "cell_type": "code",
      "source": [
        "#Loading the datasets\n",
        "testingData =  '/content/drive/MyDrive/Colab Notebooks/2/data/csv/Independent_dataset_new.csv'\n",
        "\n",
        "ind_X, ind_y, ind_set_idxs, ind_set_labels = get_dataset_from_configs(testingData)"
      ],
      "metadata": {
        "id": "27rFyS2qX3Fv",
        "colab": {
          "base_uri": "https://localhost:8080/"
        },
        "outputId": "b74b1ab0-54de-4d7d-8950-d2c8c727101c"
      },
      "execution_count": 15,
      "outputs": [
        {
          "output_type": "stream",
          "name": "stderr",
          "text": []
        }
      ]
    },
    {
      "cell_type": "code",
      "source": [
        "result = model.predict(ind_X)\n",
        "\n",
        "tempIdx =0\n",
        "tempVal =[]\n",
        "final =[]\n",
        "\n",
        "for i in range(len(ind_set_idxs)):\n",
        "  if tempIdx == ind_set_idxs[i]:\n",
        "    tempVal.append(result[i])\n",
        "  else:\n",
        "    tempIdx +=1\n",
        "    maxVal = np.max(tempVal)\n",
        "    final.append(np.array(maxVal))\n",
        "\n",
        "\n",
        "count =0\n",
        "for i in range(len(final)):\n",
        "  if final[i] > 0.5 :\n",
        "    count += 1\n",
        "\n",
        "print(\"Count\", count)"
      ],
      "metadata": {
        "id": "n-4OmMcY1xnX",
        "colab": {
          "base_uri": "https://localhost:8080/"
        },
        "outputId": "d58681bb-b865-4291-8a9a-913060c409f7"
      },
      "execution_count": 20,
      "outputs": [
        {
          "output_type": "stream",
          "name": "stdout",
          "text": [
            "data 47\n",
            "1\n",
            "1\n",
            "1\n",
            "1\n",
            "1\n",
            "1\n",
            "1\n",
            "1\n",
            "1\n",
            "1\n",
            "1\n",
            "1\n",
            "1\n",
            "1\n",
            "1\n",
            "1\n",
            "1\n",
            "1\n",
            "1\n",
            "1\n",
            "1\n",
            "1\n",
            "1\n",
            "1\n",
            "1\n",
            "1\n",
            "1\n",
            "1\n",
            "1\n",
            "1\n",
            "1\n",
            "1\n",
            "1\n",
            "1\n",
            "1\n",
            "1\n",
            "1\n",
            "1\n",
            "1\n",
            "1\n",
            "1\n",
            "1\n",
            "1\n",
            "1\n",
            "1\n",
            "1\n",
            "1\n",
            "Count 47\n"
          ]
        }
      ]
    }
  ],
  "metadata": {
    "accelerator": "GPU",
    "colab": {
      "machine_shape": "hm",
      "provenance": [],
      "collapsed_sections": []
    },
    "gpuClass": "standard",
    "kernelspec": {
      "display_name": "Python 3",
      "name": "python3"
    },
    "language_info": {
      "name": "python"
    }
  },
  "nbformat": 4,
  "nbformat_minor": 0
}